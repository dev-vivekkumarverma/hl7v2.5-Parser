{
 "cells": [
  {
   "cell_type": "markdown",
   "metadata": {},
   "source": [
    "# HL7-V2\n",
    "\n",
    "\n",
    "`Important points:`\n",
    "- (`Text based`)\n",
    "- <u>Structure:</u>\n",
    "    -  ` Trigger Event` - It is the event that takes place which interm generate the message\n",
    "    -   `Segments`: data-field delimeter seperated e.g. <cr>, Identified by three leter code eg. MHS, PID, etc.,\n",
    "        - `Data-fields`: these are the data between the data-field seperator (|).  e.g. |A01|20150601135823+0100| Datafields can also repeat with the data field seperator (\"|\") using the repetition seperator character ('~').\n",
    "            -   `components`: they are the data inside a data-field seperated by componet-seperator delimeter (^). e.g. |23432^Smith^Gordon^Denny^Jr^MD^^^AssignAuth&1.2.3.4.5.6&ISO^L^9^1000^DN^ AssignFac&1.2.3.4.5.7&ISO^^G^20100101000000+0100^20330101000000+0100^doctor|\n",
    "                -   `sub-components`: they are the parts of the componets and they are seperated by sub-compoment seperator delimeter (&) if Present.\n",
    "                                     e.g. ^AssignFac&1.2.3.4.5.7&ISO^\n"
   ]
  },
  {
   "cell_type": "markdown",
   "metadata": {},
   "source": [
    "for reference use: https://hl7-definition.caristix.com/v2/HL7v2.5.1/"
   ]
  },
  {
   "cell_type": "markdown",
   "metadata": {},
   "source": [
    "- ### Example of `HL7-v2.5` message"
   ]
  },
  {
   "cell_type": "markdown",
   "metadata": {},
   "source": [
    "- enter the source file path"
   ]
  },
  {
   "cell_type": "code",
   "execution_count": null,
   "metadata": {},
   "outputs": [],
   "source": [
    "input_file_name='hl7v2_test'  #replace with your hl7v2.5 file path"
   ]
  },
  {
   "cell_type": "markdown",
   "metadata": {},
   "source": [
    "-   reading the files segment wise"
   ]
  },
  {
   "cell_type": "code",
   "execution_count": null,
   "metadata": {},
   "outputs": [],
   "source": [
    "messageSegments=[]\n",
    "with open(input_file_name+\".txt\") as fd:\n",
    "    messageSegments=fd.readlines() #readline will read the entire file line by line i.e. segment by segment"
   ]
  },
  {
   "cell_type": "markdown",
   "metadata": {},
   "source": [
    "- first segment is the message header"
   ]
  },
  {
   "cell_type": "code",
   "execution_count": null,
   "metadata": {},
   "outputs": [],
   "source": [
    "msg_header=''\n",
    "if messageSegments and messageSegments[0].startswith(\"MSH\"):\n",
    "    msg_header=messageSegments[0]\n",
    "else: \n",
    "    raise Exception(\"Message Header Not Found\")"
   ]
  },
  {
   "cell_type": "code",
   "execution_count": null,
   "metadata": {},
   "outputs": [],
   "source": [
    "from util.encoding import get_encoding_characters\n",
    "message_encoding_chars=get_encoding_characters(\n",
    "    messageHeaderSegment=msg_header\n",
    ")"
   ]
  },
  {
   "cell_type": "markdown",
   "metadata": {},
   "source": [
    "- 4th character in the message header is the field delimeter"
   ]
  },
  {
   "cell_type": "code",
   "execution_count": null,
   "metadata": {},
   "outputs": [],
   "source": [
    "dataFieldDelimeter=msg_header[3]"
   ]
  },
  {
   "cell_type": "markdown",
   "metadata": {},
   "source": [
    "- create the list of datafields for each segment"
   ]
  },
  {
   "cell_type": "code",
   "execution_count": null,
   "metadata": {},
   "outputs": [],
   "source": [
    "SegmentWiseDataFieldLists=[]\n",
    "for segment in messageSegments:\n",
    "    dataFieldSegmentList=segment.split(message_encoding_chars['dataFieldSep'])\n",
    "    SegmentWiseDataFieldLists.append(dataFieldSegmentList)"
   ]
  },
  {
   "cell_type": "code",
   "execution_count": null,
   "metadata": {},
   "outputs": [],
   "source": [
    "print(\"message Header dataFieldSegments:: \",SegmentWiseDataFieldLists[0])"
   ]
  },
  {
   "cell_type": "code",
   "execution_count": null,
   "metadata": {},
   "outputs": [],
   "source": [
    "safeStringPatern='********************************************************************************************************************************************************************************************************'"
   ]
  },
  {
   "cell_type": "code",
   "execution_count": null,
   "metadata": {},
   "outputs": [],
   "source": [
    "message_structure_dict={}\n",
    "for segment in messageSegments:\n",
    "    segment=segment.replace(f\"{message_encoding_chars['escapeSeq']}{message_encoding_chars['dataFieldSep']}\",safeStringPatern)\n",
    "    dataFieldsList=segment.split(message_encoding_chars['dataFieldSep'])\n",
    "    segment_key=dataFieldsList[0]\n",
    "    temp_data_dict={}\n",
    "    if segment_key==\"MSH\":\n",
    "        temp_data_dict[\"MSH.1\"]=message_encoding_chars['dataFieldSep']\n",
    "    for data_key, dataField in enumerate(dataFieldsList[1:]):\n",
    "        data_level_key=f\"{segment_key}.{data_key+2 if segment_key=='MSH' else data_key+1}\"\n",
    "        dataField=dataField.replace(safeStringPatern, f\"{message_encoding_chars['escapeSeq']}{message_encoding_chars['dataFieldSep']}\")\n",
    "\n",
    "        if data_level_key!=\"MSH.2\":\n",
    "            dataField=dataField.replace(f\"{message_encoding_chars['escapeSeq']}{message_encoding_chars['repetitionSep']}\",safeStringPatern)\n",
    "            dataFieldList=dataField.split(message_encoding_chars['repetitionSep'])       \n",
    "            tempDataFieldList=[]\n",
    "            for repeat_key,data in enumerate(dataFieldList):\n",
    "                data=data.replace(safeStringPatern,f\"{message_encoding_chars['escapeSeq']}{message_encoding_chars['repetitionSep']}\")\n",
    "                data=data.replace(f\"{message_encoding_chars['escapeSeq']}{message_encoding_chars['componentSep']}\",safeStringPatern)\n",
    "                componentList=data.split(message_encoding_chars['componentSep'])\n",
    "                temp_component_dict={}\n",
    "                if len(componentList)>1:\n",
    "                    for component_key, component in enumerate(componentList):\n",
    "                        component=component.replace(safeStringPatern,f\"{message_encoding_chars['escapeSeq']}{message_encoding_chars['componentSep']}\")\n",
    "                        component=component.replace(f\"{message_encoding_chars['escapeSeq']}{message_encoding_chars['sub-componentSep']}\",safeStringPatern)\n",
    "                        subComponentList=component.split(message_encoding_chars['sub-componentSep'])\n",
    "                        component_level_key=data_level_key+f\".{component_key+1}\"\n",
    "                        temp_subcomponent_dict={}\n",
    "                        if len(subComponentList)>1:\n",
    "                            for subcompnent_key, subcompnent in enumerate(subComponentList):\n",
    "                                subcompnent=subcompnent.replace(safeStringPatern,f\"{message_encoding_chars['escapeSeq']}{message_encoding_chars['sub-componentSep']}\")\n",
    "                                subcompnent_level_key=component_level_key+f\".{subcompnent_key+1}\"\n",
    "\n",
    "                                temp_subcomponent_dict[subcompnent_level_key]=subcompnent\n",
    "                        \n",
    "                        temp_component_dict[component_level_key]=temp_subcomponent_dict if len(subComponentList)>1 else component\n",
    "            \n",
    "                tempDataFieldList.append(temp_component_dict if len(componentList)>1 else data.replace(safeStringPatern,f\"{message_encoding_chars['escapeSeq']}{message_encoding_chars['componentSep']}\"))\n",
    "            temp_data_dict[data_level_key]=tempDataFieldList if len(tempDataFieldList)>1 else tempDataFieldList[0]\n",
    "        else:\n",
    "            temp_data_dict[data_level_key]=dataField\n",
    "        \n",
    "    message_structure_dict[segment_key]=temp_data_dict if temp_data_dict else None\n",
    "\n",
    "\n",
    "\n",
    "\n",
    "from datetime import datetime \n",
    "import json,os\n",
    "res:int\n",
    "output_dir='./output_folder'\n",
    "output_file_name=f\"{input_file_name}_output_{datetime.now().date()}.json\"\n",
    "output_file_path=os.path.join(output_dir, output_file_name)\n",
    "with open(output_file_path, '+w') as fd:\n",
    "    res=fd.write(json.dumps(message_structure_dict,indent=4))\n",
    "    print(\"Data write successful :)\\nOutput file name:: \",output_file_path)\n"
   ]
  }
 ],
 "metadata": {
  "kernelspec": {
   "display_name": "Python 3",
   "language": "python",
   "name": "python3"
  },
  "language_info": {
   "codemirror_mode": {
    "name": "ipython",
    "version": 3
   },
   "file_extension": ".py",
   "mimetype": "text/x-python",
   "name": "python",
   "nbconvert_exporter": "python",
   "pygments_lexer": "ipython3",
   "version": "3.11.9"
  }
 },
 "nbformat": 4,
 "nbformat_minor": 2
}
